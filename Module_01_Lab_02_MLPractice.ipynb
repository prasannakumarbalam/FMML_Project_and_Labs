{
  "nbformat": 4,
  "nbformat_minor": 0,
  "metadata": {
    "colab": {
      "provenance": [],
      "include_colab_link": true
    },
    "kernelspec": {
      "name": "python3",
      "display_name": "Python 3"
    },
    "language_info": {
      "name": "python"
    }
  },
  "cells": [
    {
      "cell_type": "markdown",
      "metadata": {
        "id": "view-in-github",
        "colab_type": "text"
      },
      "source": [
        "<a href=\"https://colab.research.google.com/github/prasannakumarbalam/FMML_Project_and_Labs/blob/main/Module_01_Lab_02_MLPractice.ipynb\" target=\"_parent\"><img src=\"https://colab.research.google.com/assets/colab-badge.svg\" alt=\"Open In Colab\"/></a>"
      ]
    },
    {
      "cell_type": "markdown",
      "metadata": {
        "id": "3Eu9VZbF01eq"
      },
      "source": [
        "# Machine learning terms and metrics\n",
        "\n",
        "FMML Module 1, Lab 2<br>\n",
        "\n",
        "\n",
        " In this lab, we will show a part of the ML pipeline by extracting features, training and testing"
      ]
    },
    {
      "cell_type": "markdown",
      "source": [
        "# New Section"
      ],
      "metadata": {
        "id": "OenoLZikGBj-"
      }
    },
    {
      "cell_type": "code",
      "metadata": {
        "id": "8qBvyEem0vLi"
      },
      "source": [
        "import matplotlib.pyplot as plt\n",
        "import numpy as np\n",
        "from sklearn import datasets\n",
        "# set randomseed\n",
        "rng = np.random.default_rng(seed=42)"
      ],
      "execution_count": 1,
      "outputs": []
    },
    {
      "cell_type": "markdown",
      "metadata": {
        "id": "u3t59g5s1HfC"
      },
      "source": [
        "In this lab, we will use the California Housing dataset. There are 20640 samples, each with 8 attributes like income of the block, age of the houses per district etc. The task is to predict the cost of the houses per district.\n",
        "\n",
        "Let us download and examine the dataset."
      ]
    },
    {
      "cell_type": "code",
      "metadata": {
        "id": "8LpqjN991GGJ",
        "colab": {
          "base_uri": "https://localhost:8080/"
        },
        "outputId": "578ed37d-86e4-495d-9dbb-7ef33c6679df"
      },
      "source": [
        " dataset =  datasets.fetch_california_housing()\n",
        " # print(dataset.DESCR)  # uncomment this if you want to know more about this dataset\n",
        " # print(dataset.keys())  # if you want to know what else is there in this dataset\n",
        " dataset.target = dataset.target.astype(np.int) # so that we can classify\n",
        " print(dataset.data.shape)\n",
        " print(dataset.target.shape)"
      ],
      "execution_count": 2,
      "outputs": [
        {
          "output_type": "stream",
          "name": "stdout",
          "text": [
            "(20640, 8)\n",
            "(20640,)\n"
          ]
        },
        {
          "output_type": "stream",
          "name": "stderr",
          "text": [
            "<ipython-input-2-60ae2e9a125e>:4: DeprecationWarning: `np.int` is a deprecated alias for the builtin `int`. To silence this warning, use `int` by itself. Doing this will not modify any behavior and is safe. When replacing `np.int`, you may wish to use e.g. `np.int64` or `np.int32` to specify the precision. If you wish to review your current use, check the release note link for additional information.\n",
            "Deprecated in NumPy 1.20; for more details and guidance: https://numpy.org/devdocs/release/1.20.0-notes.html#deprecations\n",
            "  dataset.target = dataset.target.astype(np.int) # so that we can classify\n"
          ]
        }
      ]
    },
    {
      "cell_type": "markdown",
      "metadata": {
        "id": "iNx4174W5xRg"
      },
      "source": [
        "Here is a function for calculating the 1-nearest neighbours"
      ]
    },
    {
      "cell_type": "code",
      "metadata": {
        "id": "07zpydQj1hIQ"
      },
      "source": [
        "def NN1(traindata, trainlabel, query):\n",
        "  diff  = traindata - query  # find the difference between features. Numpy automatically takes care of the size here\n",
        "  sq = diff*diff # square the differences\n",
        "  dist = sq.sum(1) # add up the squares\n",
        "  label = trainlabel[np.argmin(dist)] # our predicted label is the label of the training data which has the least distance from the query\n",
        "  return label\n",
        "\n",
        "def NN(traindata, trainlabel, testdata):\n",
        "  # we will run nearest neighbour for each sample in the test data\n",
        "  # and collect the predicted classes in an array using list comprehension\n",
        "  predlabel = np.array([NN1(traindata, trainlabel, i) for i in testdata])\n",
        "  return predlabel"
      ],
      "execution_count": 3,
      "outputs": []
    },
    {
      "cell_type": "markdown",
      "metadata": {
        "id": "03JktkfIGaje"
      },
      "source": [
        "We will also define a 'random classifier', which randomly allots labels to each sample"
      ]
    },
    {
      "cell_type": "code",
      "metadata": {
        "id": "fogWAtjyGhAH"
      },
      "source": [
        "def RandomClassifier(traindata, trainlabel, testdata):\n",
        "  # in reality, we don't need these arguments\n",
        "\n",
        "  classes = np.unique(trainlabel)\n",
        "  rints = rng.integers(low=0, high=len(classes), size=len(testdata))\n",
        "  predlabel = classes[rints]\n",
        "  return predlabel"
      ],
      "execution_count": 4,
      "outputs": []
    },
    {
      "cell_type": "markdown",
      "metadata": {
        "id": "1Hjf1KHs7fU5"
      },
      "source": [
        "Let us define a metric 'Accuracy' to see how good our learning algorithm is. Accuracy is the ratio of the number of correctly classified samples to the total number of samples. The higher the accuracy, the better the algorithm."
      ]
    },
    {
      "cell_type": "code",
      "metadata": {
        "id": "ouuCqWU07bz-"
      },
      "source": [
        "def Accuracy(gtlabel, predlabel):\n",
        "  assert len(gtlabel)==len(predlabel), \"Length of the groundtruth labels and predicted labels should be the same\"\n",
        "  correct = (gtlabel==predlabel).sum() # count the number of times the groundtruth label is equal to the predicted label.\n",
        "  return correct/len(gtlabel)"
      ],
      "execution_count": 5,
      "outputs": []
    },
    {
      "cell_type": "markdown",
      "metadata": {
        "id": "4vJFwBFa9Klw"
      },
      "source": [
        "Let us make a function to split the dataset with the desired probability."
      ]
    },
    {
      "cell_type": "code",
      "metadata": {
        "id": "Ko0VzpSM2Tdi"
      },
      "source": [
        "def split(data, label, percent):\n",
        "  # generate a random number for each sample\n",
        "  rnd = rng.random(len(label))\n",
        "  split1 = rnd<percent\n",
        "  split2 = rnd>=percent\n",
        "  split1data = data[split1,:]\n",
        "  split1label = label[split1]\n",
        "  split2data = data[split2,:]\n",
        "  split2label = label[split2]\n",
        "  return split1data, split1label, split2data, split2label"
      ],
      "execution_count": 6,
      "outputs": []
    },
    {
      "cell_type": "markdown",
      "metadata": {
        "id": "AcK3LEAJ_LGC"
      },
      "source": [
        "We will reserve 20% of our dataset as the test set. We will not change this portion throughout our experiments"
      ]
    },
    {
      "cell_type": "code",
      "source": [],
      "metadata": {
        "id": "XtbaXGvtFxVb"
      },
      "execution_count": null,
      "outputs": []
    },
    {
      "cell_type": "code",
      "metadata": {
        "id": "bBZkHBLJ1iU-",
        "colab": {
          "base_uri": "https://localhost:8080/"
        },
        "outputId": "c8bdc562-e882-4547-8a05-df4581480dc7"
      },
      "source": [
        "testdata, testlabel, alltraindata, alltrainlabel = split(dataset.data, dataset.target, 20/100)\n",
        "print('Number of test samples = ', len(testlabel))\n",
        "print('Number of other samples = ', len(alltrainlabel))\n",
        "print('Percent of test data = ', len(testlabel)*100/len(dataset.target),'%')"
      ],
      "execution_count": 7,
      "outputs": [
        {
          "output_type": "stream",
          "name": "stdout",
          "text": [
            "Number of test samples =  4144\n",
            "Number of other samples =  16496\n",
            "Percent of test data =  20.07751937984496 %\n"
          ]
        }
      ]
    },
    {
      "cell_type": "markdown",
      "metadata": {
        "id": "a6Ss0Z6IAGNV"
      },
      "source": [
        "## Experiments with splits\n",
        "\n",
        "Let us reserve some of our train data as a validation set"
      ]
    },
    {
      "cell_type": "code",
      "metadata": {
        "id": "WFew2iry_7W7"
      },
      "source": [
        "traindata, trainlabel, valdata, vallabel = split(alltraindata, alltrainlabel, 75/100)"
      ],
      "execution_count": 8,
      "outputs": []
    },
    {
      "cell_type": "markdown",
      "metadata": {
        "id": "60hiu4clFN1i"
      },
      "source": [
        "What is the accuracy of our classifiers on the train dataset?"
      ]
    },
    {
      "cell_type": "code",
      "metadata": {
        "id": "DBlZDTHUFTZx",
        "colab": {
          "base_uri": "https://localhost:8080/"
        },
        "outputId": "21cda54a-bdf5-4f65-c7c9-1b347ab51c72"
      },
      "source": [
        "trainpred = NN(traindata, trainlabel, traindata)\n",
        "trainAccuracy = Accuracy(trainlabel, trainpred)\n",
        "print(\"Train accuracy using nearest neighbour is \", trainAccuracy)\n",
        "\n",
        "trainpred = RandomClassifier(traindata, trainlabel, traindata)\n",
        "trainAccuracy = Accuracy(trainlabel, trainpred)\n",
        "print(\"Train accuracy using random classifier is \", trainAccuracy)"
      ],
      "execution_count": 9,
      "outputs": [
        {
          "output_type": "stream",
          "name": "stdout",
          "text": [
            "Train accuracy using nearest neighbour is  1.0\n",
            "Train accuracy using random classifier is  0.164375808538163\n"
          ]
        }
      ]
    },
    {
      "cell_type": "markdown",
      "metadata": {
        "id": "7h08-9gJDtSy"
      },
      "source": [
        "For nearest neighbour, the train accuracy is always 1. The accuracy of the random classifier is close to 1/(number of classes) which is 0.1666 in our case.\n",
        "\n",
        "Let us predict the labels for our validation set and get the accuracy"
      ]
    },
    {
      "cell_type": "code",
      "metadata": {
        "id": "4h7bXoW_2H3v",
        "colab": {
          "base_uri": "https://localhost:8080/"
        },
        "outputId": "e9762701-4314-48d0-ad81-7a30e7fce01f"
      },
      "source": [
        "valpred = NN(traindata, trainlabel, valdata)\n",
        "valAccuracy = Accuracy(vallabel, valpred)\n",
        "print(\"Validation accuracy using nearest neighbour is \", valAccuracy)\n",
        "\n",
        "valpred = RandomClassifier(traindata, trainlabel, valdata)\n",
        "valAccuracy = Accuracy(vallabel, valpred)\n",
        "print(\"Validation accuracy using random classifier is \", valAccuracy)"
      ],
      "execution_count": 10,
      "outputs": [
        {
          "output_type": "stream",
          "name": "stdout",
          "text": [
            "Validation accuracy using nearest neighbour is  0.34108527131782945\n",
            "Validation accuracy using random classifier is  0.1688468992248062\n"
          ]
        }
      ]
    },
    {
      "cell_type": "markdown",
      "metadata": {
        "id": "py9bLguFEjfg"
      },
      "source": [
        "Validation accuracy of nearest neighbour is considerably less than its train accuracy while the validation accuracy of random classifier is the same. However, the validation accuracy of nearest neighbour is twice that of the random classifier.\n",
        "\n",
        "Now let us try another random split and check the validation accuracy"
      ]
    },
    {
      "cell_type": "code",
      "metadata": {
        "id": "ujm3cyYzEntE",
        "colab": {
          "base_uri": "https://localhost:8080/"
        },
        "outputId": "0b5f8d62-d66e-4f7c-db54-dc345e4c6609"
      },
      "source": [
        "traindata, trainlabel, valdata, vallabel = split(alltraindata, alltrainlabel, 75/100)\n",
        "valpred = NN(traindata, trainlabel, valdata)\n",
        "valAccuracy = Accuracy(vallabel, valpred)\n",
        "print(\"Validation accuracy of nearest neighbour is \", valAccuracy)"
      ],
      "execution_count": 11,
      "outputs": [
        {
          "output_type": "stream",
          "name": "stdout",
          "text": [
            "Validation accuracy of nearest neighbour is  0.34048257372654156\n"
          ]
        }
      ]
    },
    {
      "cell_type": "markdown",
      "metadata": {
        "id": "oSOx7U83EKie"
      },
      "source": [
        "You can run the above cell multiple times to try with different random splits.\n",
        "We notice that the accuracy is different for each run, but close together.\n",
        "\n",
        "Now let us compare it with the accuracy we get on the test dataset."
      ]
    },
    {
      "cell_type": "code",
      "metadata": {
        "id": "PNEZ5ToYBEDW",
        "colab": {
          "base_uri": "https://localhost:8080/"
        },
        "outputId": "3eb1f7ee-a523-4c70-b905-19d090ba4644"
      },
      "source": [
        "testpred = NN(alltraindata, alltrainlabel, testdata)\n",
        "testAccuracy = Accuracy(testlabel, testpred)\n",
        "print('Test accuracy is ', testAccuracy)"
      ],
      "execution_count": 12,
      "outputs": [
        {
          "output_type": "stream",
          "name": "stdout",
          "text": [
            "Test accuracy is  0.34917953667953666\n"
          ]
        }
      ]
    },
    {
      "cell_type": "markdown",
      "metadata": {
        "id": "w3dGD531K3gH"
      },
      "source": [
        "### Try it out for yourself and answer:\n",
        "1. How is the accuracy of the validation set affected if we increase the percentage of validation set? What happens when we reduce it?\n",
        "2. How does the size of the train and validation set affect how well we can predict the accuracy on the test set using the validation set?\n",
        "3. What do you think is a good percentage to reserve for the validation set so that thest two factors are balanced?\n",
        "\n",
        "Answer for both nearest neighbour and random classifier. You can note down the values for your experiments and plot a graph using  <a href=https://matplotlib.org/stable/gallery/lines_bars_and_markers/step_demo.html#sphx-glr-gallery-lines-bars-and-markers-step-demo-py>plt.plot<href>. Check also for extreme values for splits, like 99.9% or 0.1%"
      ]
    },
    {
      "cell_type": "markdown",
      "source": [
        "# ***3)*** The percentage to reserve for the validation set in machine learning depends on various factors specific to your project:\n",
        "\n",
        "1. Dataset Size: Larger datasets can allocate a smaller percentage to validation; smaller datasets may need a larger portion for validation.\n",
        "\n",
        "2. Model Complexity: Complex models might require more validation data to accurately assess generalization, while simpler models may need less.\n",
        "\n",
        "3. Resource Constraints: Consider computational resources; smaller validation sets can speed up training and evaluation.\n",
        "\n",
        "4. Cross-Validation: Techniques like k-fold cross-validation adapt the validation set size based on the number of folds (k).\n",
        "\n",
        "5. Domain Knowledge: Understand your data's characteristics; some datasets require larger validation sets due to inherent variability.\n",
        "\n",
        "6. Trial and Error: Experiment with different validation set sizes to find the balance between training and validation that works best for your specific project.\n",
        "\n",
        "Common starting points are 80/20 or 70/30 splits (training/validation), but adjust based on your project's needs and goals. The aim is to have a validation set large enough for reliable performance assessment while ensuring sufficient training data."
      ],
      "metadata": {
        "id": "LPFTRJhFFaw4"
      }
    },
    {
      "cell_type": "markdown",
      "source": [
        "# ***2)*** The size of the training and validation sets in machine learning can significantly impact your ability to predict the accuracy of a model on the test set using the validation set:\n",
        "\n",
        "1. A large training set can help the model learn better but may lead to less reliable validation set estimates if it's small.\n",
        "2. A large validation set provides a more stable performance estimate but may not be sufficient for a small training set to learn effectively.\n",
        "3. Balancing the sizes of the training and validation sets strikes a middle ground and often provides a reasonable compromise.\n",
        "4. Cross-validation techniques like k-fold cross-validation can help mitigate issues related to dataset size and provide robust estimates of model performance.\n",
        "\n",
        "The choice of set sizes should consider factors like dataset characteristics, model complexity, and available resources to strike the right balance between training and validation set sizes."
      ],
      "metadata": {
        "id": "FKrhG7jPEtkE"
      }
    },
    {
      "cell_type": "markdown",
      "source": [
        "# ***1)*** The size of the validation set in machine learning can impact the accuracy assessment and performance of a model:\n",
        "\n",
        "1. **Increasing Validation Set Size**:\n",
        "   - Pros: More reliable performance estimate, better detection of overfitting.\n",
        "   - Cons: Less data for training, potential underfitting, especially with limited data.\n",
        "\n",
        "2. **Reducing Validation Set Size**:\n",
        "   - Pros: More data for training, potentially higher model accuracy.\n",
        "   - Cons: Less reliable performance estimate, harder to detect overfitting.\n",
        "\n",
        "The choice of validation set size should consider dataset characteristics, project goals, and resource constraints. Techniques like k-fold cross-validation can provide a balance between validation set size and model reliability. The ideal size depends on your specific project context."
      ],
      "metadata": {
        "id": "WSyDBu3wD6pU"
      }
    },
    {
      "cell_type": "markdown",
      "metadata": {
        "id": "PnYvkAZLQY7h"
      },
      "source": [
        "## Multiple Splits\n",
        "\n",
        "One way to get more accurate estimates for the test accuracy is by using <b>crossvalidation</b>. Here, we will try a simple version, where we do multiple train/val splits and take the average of validation accuracies as the test accuracy estimation. Here is a function for doing this. Note that this function will take a long time to execute."
      ]
    },
    {
      "cell_type": "code",
      "metadata": {
        "id": "E4nGCUQXBTzo"
      },
      "source": [
        "# you can use this function for random classifier also\n",
        "def AverageAccuracy(alldata, alllabel, splitpercent, iterations, classifier=NN):\n",
        "  accuracy = 0\n",
        "  for ii in range(iterations):\n",
        "    traindata, trainlabel, valdata, vallabel = split(alldata, alllabel, splitpercent)\n",
        "    valpred = classifier(traindata, trainlabel, valdata)\n",
        "    accuracy += Accuracy(vallabel, valpred)\n",
        "  return accuracy/iterations # average of all accuracies"
      ],
      "execution_count": 13,
      "outputs": []
    },
    {
      "cell_type": "code",
      "metadata": {
        "id": "H3qtNar7Bbik",
        "colab": {
          "base_uri": "https://localhost:8080/"
        },
        "outputId": "e5fd7903-2cc3-4dc7-e565-a5797575d6a4"
      },
      "source": [
        "print('Average validation accuracy is ', AverageAccuracy(alltraindata, alltrainlabel, 75/100, 10, classifier=NN))\n",
        "testpred = NN(alltraindata, alltrainlabel, testdata)\n",
        "print('test accuracy is ',Accuracy(testlabel, testpred) )"
      ],
      "execution_count": 14,
      "outputs": [
        {
          "output_type": "stream",
          "name": "stdout",
          "text": [
            "Average validation accuracy is  0.33584635395170215\n",
            "test accuracy is  0.34917953667953666\n"
          ]
        }
      ]
    },
    {
      "cell_type": "markdown",
      "metadata": {
        "id": "33GIn4x5VH-d"
      },
      "source": [
        "This is a very simple way of doing cross-validation. There are many well-known algorithms for cross-validation, like k-fold cross-validation, leave-one-out etc. This will be covered in detail in a later module. For more information about cross-validation, check <a href=https://en.wikipedia.org/wiki/Cross-validation_(statistics)>Cross-validatioin (Wikipedia)</a>\n",
        "\n",
        "### Questions\n",
        "1. Does averaging the validation accuracy across multiple splits give more consistent results?\n",
        "2. Does it give more accurate estimate of test accuracy?\n",
        "3. What is the effect of the number of iterations on the estimate? Do we get a better estimate with higher iterations?\n",
        "4. Consider the results you got for the previous questions. Can we deal with a very small train dataset or validation dataset by increasing the iterations?\n"
      ]
    },
    {
      "cell_type": "markdown",
      "source": [
        "# ***3)*** In summary, the number of iterations during model training can impact the estimate of a model's performance:\n",
        "\n",
        "1. **Too Few Iterations:** Insufficient iterations may lead to underfitting, causing the model to perform poorly. More iterations can help the model converge and potentially improve performance.\n",
        "\n",
        "2. **Too Many Iterations:** Excessive iterations can result in overfitting, where the model fits noise in the data, leading to poor generalization. It's crucial to strike a balance to prevent overfitting.\n",
        "\n",
        "3. **Hyperparameter Tuning:** The number of iterations is often a hyperparameter that needs tuning. Cross-validation can help determine the optimal number of iterations for a specific dataset and model complexity.\n",
        "\n",
        "Ultimately, the impact of the number of iterations on the estimate of model performance depends on various factors, and careful experimentation and tuning are necessary to find the right balance."
      ],
      "metadata": {
        "id": "qTLLxF5dAomk"
      }
    },
    {
      "cell_type": "markdown",
      "source": [
        "# ***1)*** Sure, here are the key points about averaging validation accuracy across multiple splits using cross-validation:\n",
        "\n",
        "1. **Consistency**: Cross-validation reduces variability in evaluation results by using multiple data splits.\n",
        "\n",
        "2. **Generalization**: It provides a more comprehensive view of how well a model generalizes to unseen data.\n",
        "\n",
        "3. **Reliable Performance**: Cross-validation offers a more robust estimate of a model's performance by considering different data partitions.\n",
        "\n",
        "4. **Model Selection**: It helps in choosing the best model, hyperparameters, or feature sets by comparing performance across folds.\n",
        "\n",
        "In essence, cross-validation enhances the reliability of model evaluation and aids in making informed decisions in machine learning."
      ],
      "metadata": {
        "id": "VVXHo7kW-zHg"
      }
    },
    {
      "cell_type": "markdown",
      "source": [
        "# 2)Cross-validation, specifically k-fold cross-validation, provides a more accurate estimate of a model's performance on unseen data compared to a single train-test split. However, it's important to clarify that the test accuracy estimated through cross-validation is still not the same as the true performance on a completely unseen dataset.\n",
        "\n",
        "Here's how cross-validation contributes to a more accurate estimate of test accuracy:\n",
        "\n",
        "1. **Reduced Variance**: Cross-validation helps reduce the variance in performance estimation. A single train-test split can be heavily influenced by the specific data points in the test set, leading to a potentially high variance in the estimated performance. By averaging over multiple splits, cross-validation smooths out this variability and provides a more stable estimate.\n",
        "\n",
        "2. **Better Generalization**: Cross-validation evaluates the model's performance on different subsets of the data. This means that the model has to generalize well across various data partitions to achieve good performance in cross-validation. If the model consistently performs well across all folds, it suggests better generalization.\n",
        "\n",
        "3. **Model Selection**: Cross-validation is commonly used for model selection and hyperparameter tuning. It helps you choose the best-performing model or parameter settings based on how well they perform across different folds, which can lead to a more accurate model.\n",
        "\n",
        "Despite these advantages, it's important to keep in mind that the estimate of test accuracy obtained through cross-validation is still based on the data you have. It doesn't guarantee that your model will perform equally well on entirely new, unseen data. There can still be issues like data distribution shifts or biases in your training data that cross-validation may not fully capture.\n",
        "\n",
        "In practice, after using cross-validation to assess and fine-tune your model, it's essential to evaluate its performance on a truly independent and unseen test dataset, if possible. This final evaluation on a separate test set provides the most accurate estimate of how well your model will perform in real-world applications."
      ],
      "metadata": {
        "id": "qzD6PoBy_alj"
      }
    },
    {
      "cell_type": "markdown",
      "source": [
        "# ***4)*** Increasing the number of iterations during training can offer some improvement when dealing with a very small training dataset. However, it is not a comprehensive solution and comes with caveats:\n",
        "\n",
        "1. **Overfitting Risk**: Small datasets are prone to overfitting, and increasing iterations can exacerbate this issue if not properly managed.\n",
        "\n",
        "2. **Data Quality Matters**: The impact of more iterations depends on the quality and representativeness of the small dataset.\n",
        "\n",
        "3. **Diminishing Returns**: There's a point of diminishing returns with more iterations; after convergence, further iterations may have limited benefits.\n",
        "\n",
        "To address the challenges of a small dataset effectively, consider additional strategies like data augmentation, transfer learning, regularization, or, ideally, collecting more data. These approaches can help improve model performance and mitigate overfitting more reliably."
      ],
      "metadata": {
        "id": "DUUpA1b1CrtC"
      }
    }
  ]
}